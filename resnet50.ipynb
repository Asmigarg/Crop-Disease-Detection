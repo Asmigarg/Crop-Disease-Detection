{
 "cells": [
  {
   "cell_type": "code",
   "execution_count": 1,
   "metadata": {
    "_cell_guid": "b1076dfc-b9ad-4769-8c92-a6c4dae69d19",
    "_uuid": "8f2839f25d086af736a60e9eeb907d3b93b6e0e5",
    "execution": {
     "iopub.execute_input": "2025-03-15T16:47:49.041185Z",
     "iopub.status.busy": "2025-03-15T16:47:49.040915Z",
     "iopub.status.idle": "2025-03-15T16:48:01.781014Z",
     "shell.execute_reply": "2025-03-15T16:48:01.780263Z",
     "shell.execute_reply.started": "2025-03-15T16:47:49.041153Z"
    },
    "trusted": true
   },
   "outputs": [],
   "source": [
    "import tensorflow as tf\n",
    "import matplotlib.pyplot as plt\n",
    "import pandas as pd\n",
    "import seaborn as sns\n",
    "from tensorflow.keras.applications import ResNet50\n",
    "from tensorflow.keras.layers import Dense, GlobalAveragePooling2D, Dropout\n",
    "from tensorflow.keras.models import Model\n",
    "from tensorflow.keras.applications.resnet50 import preprocess_input\n",
    "import json\n",
    "from sklearn.metrics import confusion_matrix, classification_report"
   ]
  },
  {
   "cell_type": "code",
   "execution_count": null,
   "metadata": {
    "execution": {
     "iopub.execute_input": "2025-03-15T16:57:53.192497Z",
     "iopub.status.busy": "2025-03-15T16:57:53.192074Z",
     "iopub.status.idle": "2025-03-15T16:58:22.56291Z",
     "shell.execute_reply": "2025-03-15T16:58:22.562032Z",
     "shell.execute_reply.started": "2025-03-15T16:57:53.192464Z"
    },
    "trusted": true
   },
   "outputs": [
    {
     "ename": "NotFoundError",
     "evalue": "Could not find directory /kaggle/input/plant-village-dataset-updated",
     "output_type": "error",
     "traceback": [
      "\u001b[1;31m---------------------------------------------------------------------------\u001b[0m",
      "\u001b[1;31mNotFoundError\u001b[0m                             Traceback (most recent call last)",
      "Cell \u001b[1;32mIn[2], line 4\u001b[0m\n\u001b[0;32m      1\u001b[0m \u001b[38;5;28;01mimport\u001b[39;00m\u001b[38;5;250m \u001b[39m\u001b[38;5;21;01mtensorflow\u001b[39;00m\u001b[38;5;250m \u001b[39m\u001b[38;5;28;01mas\u001b[39;00m\u001b[38;5;250m \u001b[39m\u001b[38;5;21;01mtf\u001b[39;00m\n\u001b[0;32m      3\u001b[0m \u001b[38;5;66;03m# Load the validation dataset\u001b[39;00m\n\u001b[1;32m----> 4\u001b[0m validation_set \u001b[38;5;241m=\u001b[39m \u001b[43mtf\u001b[49m\u001b[38;5;241;43m.\u001b[39;49m\u001b[43mkeras\u001b[49m\u001b[38;5;241;43m.\u001b[39;49m\u001b[43mutils\u001b[49m\u001b[38;5;241;43m.\u001b[39;49m\u001b[43mimage_dataset_from_directory\u001b[49m\u001b[43m(\u001b[49m\n\u001b[0;32m      5\u001b[0m \u001b[43m    \u001b[49m\u001b[38;5;124;43m'\u001b[39;49m\u001b[38;5;124;43m/kaggle/input/plant-village-dataset-updated\u001b[39;49m\u001b[38;5;124;43m'\u001b[39;49m\u001b[43m,\u001b[49m\n\u001b[0;32m      6\u001b[0m \u001b[43m    \u001b[49m\u001b[43mlabels\u001b[49m\u001b[38;5;241;43m=\u001b[39;49m\u001b[38;5;124;43m\"\u001b[39;49m\u001b[38;5;124;43minferred\u001b[39;49m\u001b[38;5;124;43m\"\u001b[39;49m\u001b[43m,\u001b[49m\n\u001b[0;32m      7\u001b[0m \u001b[43m    \u001b[49m\u001b[43mlabel_mode\u001b[49m\u001b[38;5;241;43m=\u001b[39;49m\u001b[38;5;124;43m\"\u001b[39;49m\u001b[38;5;124;43mcategorical\u001b[39;49m\u001b[38;5;124;43m\"\u001b[39;49m\u001b[43m,\u001b[49m\n\u001b[0;32m      8\u001b[0m \u001b[43m    \u001b[49m\u001b[43mcolor_mode\u001b[49m\u001b[38;5;241;43m=\u001b[39;49m\u001b[38;5;124;43m\"\u001b[39;49m\u001b[38;5;124;43mrgb\u001b[39;49m\u001b[38;5;124;43m\"\u001b[39;49m\u001b[43m,\u001b[49m\n\u001b[0;32m      9\u001b[0m \u001b[43m    \u001b[49m\u001b[43mbatch_size\u001b[49m\u001b[38;5;241;43m=\u001b[39;49m\u001b[38;5;241;43m32\u001b[39;49m\u001b[43m,\u001b[49m\n\u001b[0;32m     10\u001b[0m \u001b[43m    \u001b[49m\u001b[43mimage_size\u001b[49m\u001b[38;5;241;43m=\u001b[39;49m\u001b[43m(\u001b[49m\u001b[38;5;241;43m224\u001b[39;49m\u001b[43m,\u001b[49m\u001b[43m \u001b[49m\u001b[38;5;241;43m224\u001b[39;49m\u001b[43m)\u001b[49m\u001b[43m,\u001b[49m\u001b[43m  \u001b[49m\u001b[38;5;66;43;03m# Adjusting the image size to match ResNet50 input\u001b[39;49;00m\n\u001b[0;32m     11\u001b[0m \u001b[43m    \u001b[49m\u001b[43mshuffle\u001b[49m\u001b[38;5;241;43m=\u001b[39;49m\u001b[38;5;28;43;01mTrue\u001b[39;49;00m\u001b[43m,\u001b[49m\n\u001b[0;32m     12\u001b[0m \u001b[43m    \u001b[49m\u001b[43minterpolation\u001b[49m\u001b[38;5;241;43m=\u001b[39;49m\u001b[38;5;124;43m\"\u001b[39;49m\u001b[38;5;124;43mbilinear\u001b[39;49m\u001b[38;5;124;43m\"\u001b[39;49m\u001b[43m,\u001b[49m\n\u001b[0;32m     13\u001b[0m \u001b[43m    \u001b[49m\u001b[43msubset\u001b[49m\u001b[38;5;241;43m=\u001b[39;49m\u001b[38;5;124;43m\"\u001b[39;49m\u001b[38;5;124;43mvalidation\u001b[39;49m\u001b[38;5;124;43m\"\u001b[39;49m\u001b[43m,\u001b[49m\n\u001b[0;32m     14\u001b[0m \u001b[43m    \u001b[49m\u001b[43mvalidation_split\u001b[49m\u001b[38;5;241;43m=\u001b[39;49m\u001b[38;5;241;43m0.2\u001b[39;49m\u001b[43m,\u001b[49m\u001b[43m  \u001b[49m\u001b[38;5;66;43;03m# Split data into training and validation\u001b[39;49;00m\n\u001b[0;32m     15\u001b[0m \u001b[43m    \u001b[49m\u001b[43mseed\u001b[49m\u001b[38;5;241;43m=\u001b[39;49m\u001b[38;5;241;43m42\u001b[39;49m\u001b[43m \u001b[49m\u001b[38;5;66;43;03m# Provide a seed for reproducibility\u001b[39;49;00m\n\u001b[0;32m     16\u001b[0m \u001b[43m)\u001b[49m\n",
      "File \u001b[1;32m~\\AppData\\Roaming\\Python\\Python310\\site-packages\\keras\\src\\utils\\image_dataset_utils.py:232\u001b[0m, in \u001b[0;36mimage_dataset_from_directory\u001b[1;34m(directory, labels, label_mode, class_names, color_mode, batch_size, image_size, shuffle, seed, validation_split, subset, interpolation, follow_links, crop_to_aspect_ratio, pad_to_aspect_ratio, data_format, verbose)\u001b[0m\n\u001b[0;32m    230\u001b[0m \u001b[38;5;28;01mif\u001b[39;00m seed \u001b[38;5;129;01mis\u001b[39;00m \u001b[38;5;28;01mNone\u001b[39;00m:\n\u001b[0;32m    231\u001b[0m     seed \u001b[38;5;241m=\u001b[39m np\u001b[38;5;241m.\u001b[39mrandom\u001b[38;5;241m.\u001b[39mrandint(\u001b[38;5;241m1e6\u001b[39m)\n\u001b[1;32m--> 232\u001b[0m image_paths, labels, class_names \u001b[38;5;241m=\u001b[39m \u001b[43mdataset_utils\u001b[49m\u001b[38;5;241;43m.\u001b[39;49m\u001b[43mindex_directory\u001b[49m\u001b[43m(\u001b[49m\n\u001b[0;32m    233\u001b[0m \u001b[43m    \u001b[49m\u001b[43mdirectory\u001b[49m\u001b[43m,\u001b[49m\n\u001b[0;32m    234\u001b[0m \u001b[43m    \u001b[49m\u001b[43mlabels\u001b[49m\u001b[43m,\u001b[49m\n\u001b[0;32m    235\u001b[0m \u001b[43m    \u001b[49m\u001b[43mformats\u001b[49m\u001b[38;5;241;43m=\u001b[39;49m\u001b[43mALLOWLIST_FORMATS\u001b[49m\u001b[43m,\u001b[49m\n\u001b[0;32m    236\u001b[0m \u001b[43m    \u001b[49m\u001b[43mclass_names\u001b[49m\u001b[38;5;241;43m=\u001b[39;49m\u001b[43mclass_names\u001b[49m\u001b[43m,\u001b[49m\n\u001b[0;32m    237\u001b[0m \u001b[43m    \u001b[49m\u001b[43mshuffle\u001b[49m\u001b[38;5;241;43m=\u001b[39;49m\u001b[43mshuffle\u001b[49m\u001b[43m,\u001b[49m\n\u001b[0;32m    238\u001b[0m \u001b[43m    \u001b[49m\u001b[43mseed\u001b[49m\u001b[38;5;241;43m=\u001b[39;49m\u001b[43mseed\u001b[49m\u001b[43m,\u001b[49m\n\u001b[0;32m    239\u001b[0m \u001b[43m    \u001b[49m\u001b[43mfollow_links\u001b[49m\u001b[38;5;241;43m=\u001b[39;49m\u001b[43mfollow_links\u001b[49m\u001b[43m,\u001b[49m\n\u001b[0;32m    240\u001b[0m \u001b[43m    \u001b[49m\u001b[43mverbose\u001b[49m\u001b[38;5;241;43m=\u001b[39;49m\u001b[43mverbose\u001b[49m\u001b[43m,\u001b[49m\n\u001b[0;32m    241\u001b[0m \u001b[43m\u001b[49m\u001b[43m)\u001b[49m\n\u001b[0;32m    243\u001b[0m \u001b[38;5;28;01mif\u001b[39;00m label_mode \u001b[38;5;241m==\u001b[39m \u001b[38;5;124m\"\u001b[39m\u001b[38;5;124mbinary\u001b[39m\u001b[38;5;124m\"\u001b[39m \u001b[38;5;129;01mand\u001b[39;00m \u001b[38;5;28mlen\u001b[39m(class_names) \u001b[38;5;241m!=\u001b[39m \u001b[38;5;241m2\u001b[39m:\n\u001b[0;32m    244\u001b[0m     \u001b[38;5;28;01mraise\u001b[39;00m \u001b[38;5;167;01mValueError\u001b[39;00m(\n\u001b[0;32m    245\u001b[0m         \u001b[38;5;124m'\u001b[39m\u001b[38;5;124mWhen passing `label_mode=\u001b[39m\u001b[38;5;124m\"\u001b[39m\u001b[38;5;124mbinary\u001b[39m\u001b[38;5;124m\"\u001b[39m\u001b[38;5;124m`, there must be exactly 2 \u001b[39m\u001b[38;5;124m'\u001b[39m\n\u001b[0;32m    246\u001b[0m         \u001b[38;5;124mf\u001b[39m\u001b[38;5;124m\"\u001b[39m\u001b[38;5;124mclass_names. Received: class_names=\u001b[39m\u001b[38;5;132;01m{\u001b[39;00mclass_names\u001b[38;5;132;01m}\u001b[39;00m\u001b[38;5;124m\"\u001b[39m\n\u001b[0;32m    247\u001b[0m     )\n",
      "File \u001b[1;32m~\\AppData\\Roaming\\Python\\Python310\\site-packages\\keras\\src\\utils\\dataset_utils.py:530\u001b[0m, in \u001b[0;36mindex_directory\u001b[1;34m(directory, labels, formats, class_names, shuffle, seed, follow_links, verbose)\u001b[0m\n\u001b[0;32m    528\u001b[0m \u001b[38;5;28;01mif\u001b[39;00m labels \u001b[38;5;241m==\u001b[39m \u001b[38;5;124m\"\u001b[39m\u001b[38;5;124minferred\u001b[39m\u001b[38;5;124m\"\u001b[39m:\n\u001b[0;32m    529\u001b[0m     subdirs \u001b[38;5;241m=\u001b[39m []\n\u001b[1;32m--> 530\u001b[0m     \u001b[38;5;28;01mfor\u001b[39;00m subdir \u001b[38;5;129;01min\u001b[39;00m \u001b[38;5;28msorted\u001b[39m(\u001b[43mtf\u001b[49m\u001b[38;5;241;43m.\u001b[39;49m\u001b[43mio\u001b[49m\u001b[38;5;241;43m.\u001b[39;49m\u001b[43mgfile\u001b[49m\u001b[38;5;241;43m.\u001b[39;49m\u001b[43mlistdir\u001b[49m\u001b[43m(\u001b[49m\u001b[43mdirectory\u001b[49m\u001b[43m)\u001b[49m):\n\u001b[0;32m    531\u001b[0m         \u001b[38;5;28;01mif\u001b[39;00m tf\u001b[38;5;241m.\u001b[39mio\u001b[38;5;241m.\u001b[39mgfile\u001b[38;5;241m.\u001b[39misdir(tf\u001b[38;5;241m.\u001b[39mio\u001b[38;5;241m.\u001b[39mgfile\u001b[38;5;241m.\u001b[39mjoin(directory, subdir)):\n\u001b[0;32m    532\u001b[0m             \u001b[38;5;28;01mif\u001b[39;00m \u001b[38;5;129;01mnot\u001b[39;00m subdir\u001b[38;5;241m.\u001b[39mstartswith(\u001b[38;5;124m\"\u001b[39m\u001b[38;5;124m.\u001b[39m\u001b[38;5;124m\"\u001b[39m):\n",
      "File \u001b[1;32m~\\AppData\\Roaming\\Python\\Python310\\site-packages\\tensorflow\\python\\lib\\io\\file_io.py:768\u001b[0m, in \u001b[0;36mlist_directory_v2\u001b[1;34m(path)\u001b[0m\n\u001b[0;32m    753\u001b[0m \u001b[38;5;250m\u001b[39m\u001b[38;5;124;03m\"\"\"Returns a list of entries contained within a directory.\u001b[39;00m\n\u001b[0;32m    754\u001b[0m \n\u001b[0;32m    755\u001b[0m \u001b[38;5;124;03mThe list is in arbitrary order. It does not contain the special entries \".\"\u001b[39;00m\n\u001b[1;32m   (...)\u001b[0m\n\u001b[0;32m    765\u001b[0m \u001b[38;5;124;03m  errors.NotFoundError if directory doesn't exist\u001b[39;00m\n\u001b[0;32m    766\u001b[0m \u001b[38;5;124;03m\"\"\"\u001b[39;00m\n\u001b[0;32m    767\u001b[0m \u001b[38;5;28;01mif\u001b[39;00m \u001b[38;5;129;01mnot\u001b[39;00m is_directory(path):\n\u001b[1;32m--> 768\u001b[0m   \u001b[38;5;28;01mraise\u001b[39;00m errors\u001b[38;5;241m.\u001b[39mNotFoundError(\n\u001b[0;32m    769\u001b[0m       node_def\u001b[38;5;241m=\u001b[39m\u001b[38;5;28;01mNone\u001b[39;00m,\n\u001b[0;32m    770\u001b[0m       op\u001b[38;5;241m=\u001b[39m\u001b[38;5;28;01mNone\u001b[39;00m,\n\u001b[0;32m    771\u001b[0m       message\u001b[38;5;241m=\u001b[39m\u001b[38;5;124m\"\u001b[39m\u001b[38;5;124mCould not find directory \u001b[39m\u001b[38;5;132;01m{}\u001b[39;00m\u001b[38;5;124m\"\u001b[39m\u001b[38;5;241m.\u001b[39mformat(path))\n\u001b[0;32m    773\u001b[0m \u001b[38;5;66;03m# Convert each element to string, since the return values of the\u001b[39;00m\n\u001b[0;32m    774\u001b[0m \u001b[38;5;66;03m# vector of string should be interpreted as strings, not bytes.\u001b[39;00m\n\u001b[0;32m    775\u001b[0m \u001b[38;5;28;01mreturn\u001b[39;00m [\n\u001b[0;32m    776\u001b[0m     compat\u001b[38;5;241m.\u001b[39mas_str_any(filename)\n\u001b[0;32m    777\u001b[0m     \u001b[38;5;28;01mfor\u001b[39;00m filename \u001b[38;5;129;01min\u001b[39;00m _pywrap_file_io\u001b[38;5;241m.\u001b[39mGetChildren(compat\u001b[38;5;241m.\u001b[39mpath_to_bytes(path))\n\u001b[0;32m    778\u001b[0m ]\n",
      "\u001b[1;31mNotFoundError\u001b[0m: Could not find directory /kaggle/input/plant-village-dataset-updated"
     ]
    }
   ],
   "source": [
    "import tensorflow as tf\n",
    "\n",
    "# Load the validation dataset\n",
    "validation_set = tf.keras.utils.image_dataset_from_directory(\n",
    "    '/kaggle/input/plant-village-dataset-updated',\n",
    "    labels=\"inferred\",\n",
    "    label_mode=\"categorical\",\n",
    "    color_mode=\"rgb\",\n",
    "    batch_size=32,\n",
    "    image_size=(224, 224),  # Adjusting the image size to match ResNet50 input\n",
    "    shuffle=True,\n",
    "    interpolation=\"bilinear\",\n",
    "    subset=\"validation\",\n",
    "    validation_split=0.2,  # Split data into training and validation\n",
    "    seed=42 # Provide a seed for reproducibility\n",
    ")"
   ]
  },
  {
   "cell_type": "code",
   "execution_count": null,
   "metadata": {
    "execution": {
     "iopub.execute_input": "2025-03-15T16:58:29.502641Z",
     "iopub.status.busy": "2025-03-15T16:58:29.502332Z",
     "iopub.status.idle": "2025-03-15T16:58:42.512757Z",
     "shell.execute_reply": "2025-03-15T16:58:42.511882Z",
     "shell.execute_reply.started": "2025-03-15T16:58:29.502618Z"
    },
    "trusted": true
   },
   "outputs": [],
   "source": [
    "# Load the training dataset\n",
    "training_set = tf.keras.utils.image_dataset_from_directory(\n",
    "    '/kaggle/input/plant-village-dataset-updated',\n",
    "    labels=\"inferred\",\n",
    "    label_mode=\"categorical\",\n",
    "    color_mode=\"rgb\",\n",
    "    batch_size=32,\n",
    "    image_size=(224, 224),  # Adjusting the image size to match ResNet50 input\n",
    "    shuffle=True,\n",
    "    interpolation=\"bilinear\",\n",
    "    subset=\"training\",\n",
    "    validation_split=0.2,  # Split data into training and validation\n",
    "    seed=42  # Provide a seed for reproducibility\n",
    ")\n"
   ]
  },
  {
   "cell_type": "code",
   "execution_count": null,
   "metadata": {
    "execution": {
     "iopub.execute_input": "2025-03-15T16:58:50.10322Z",
     "iopub.status.busy": "2025-03-15T16:58:50.102928Z",
     "iopub.status.idle": "2025-03-15T16:58:50.141421Z",
     "shell.execute_reply": "2025-03-15T16:58:50.14082Z",
     "shell.execute_reply.started": "2025-03-15T16:58:50.103199Z"
    },
    "trusted": true
   },
   "outputs": [],
   "source": [
    "# Preprocess the datasets to match ResNet50 input requirements\n",
    "training_set = training_set.map(lambda x, y: (preprocess_input(x), y))\n",
    "validation_set = validation_set.map(lambda x, y: (preprocess_input(x), y))"
   ]
  },
  {
   "cell_type": "code",
   "execution_count": null,
   "metadata": {
    "execution": {
     "iopub.execute_input": "2025-03-15T16:58:53.20991Z",
     "iopub.status.busy": "2025-03-15T16:58:53.209593Z",
     "iopub.status.idle": "2025-03-15T16:58:54.184641Z",
     "shell.execute_reply": "2025-03-15T16:58:54.183715Z",
     "shell.execute_reply.started": "2025-03-15T16:58:53.209884Z"
    },
    "trusted": true
   },
   "outputs": [],
   "source": [
    "# Load ResNet50 model without the top classification layer, using imagenet weights\n",
    "base_model = ResNet50(weights='imagenet', include_top=False, input_shape=(224, 224, 3))\n"
   ]
  },
  {
   "cell_type": "code",
   "execution_count": null,
   "metadata": {
    "execution": {
     "iopub.execute_input": "2025-03-15T16:59:00.320489Z",
     "iopub.status.busy": "2025-03-15T16:59:00.320149Z",
     "iopub.status.idle": "2025-03-15T16:59:00.327194Z",
     "shell.execute_reply": "2025-03-15T16:59:00.325785Z",
     "shell.execute_reply.started": "2025-03-15T16:59:00.320464Z"
    },
    "trusted": true
   },
   "outputs": [],
   "source": [
    "# Freeze the base model layers to prevent them from being trained\n",
    "base_model.trainable = False"
   ]
  },
  {
   "cell_type": "code",
   "execution_count": null,
   "metadata": {
    "execution": {
     "iopub.execute_input": "2025-03-15T17:01:29.129684Z",
     "iopub.status.busy": "2025-03-15T17:01:29.129346Z",
     "iopub.status.idle": "2025-03-15T17:01:29.155998Z",
     "shell.execute_reply": "2025-03-15T17:01:29.15535Z",
     "shell.execute_reply.started": "2025-03-15T17:01:29.12966Z"
    },
    "trusted": true
   },
   "outputs": [],
   "source": [
    "# Build the new model on top of the ResNet50 base\n",
    "model = tf.keras.Sequential([\n",
    "    base_model,\n",
    "    GlobalAveragePooling2D(),\n",
    "    Dense(1024, activation='relu'),\n",
    "    Dropout(0.5),\n",
    "    Dense(9, activation='softmax')  # 38 classes in the dataset\n",
    "])"
   ]
  },
  {
   "cell_type": "code",
   "execution_count": null,
   "metadata": {
    "execution": {
     "iopub.execute_input": "2025-03-15T17:01:36.486612Z",
     "iopub.status.busy": "2025-03-15T17:01:36.48626Z",
     "iopub.status.idle": "2025-03-15T17:01:36.507658Z",
     "shell.execute_reply": "2025-03-15T17:01:36.506774Z",
     "shell.execute_reply.started": "2025-03-15T17:01:36.486585Z"
    },
    "trusted": true
   },
   "outputs": [],
   "source": [
    "from tensorflow.keras.metrics import Precision, Recall, AUC\n",
    "\n",
    "# Compile the model with additional metrics\n",
    "model.compile(\n",
    "    optimizer=tf.keras.optimizers.Adam(learning_rate=0.0001),\n",
    "    loss='categorical_crossentropy',\n",
    "    metrics=[\n",
    "        'accuracy',           # Standard accuracy\n",
    "        Precision(),          # Precision metric\n",
    "        Recall(),             # Recall metric\n",
    "        AUC(),                # AUC (Area Under Curve)\n",
    "        'TruePositives',      # True positive count\n",
    "        'TrueNegatives',      # True negative count\n",
    "        'FalsePositives',     # False positive count\n",
    "        'FalseNegatives'      # False negative count\n",
    "    ]\n",
    ")\n"
   ]
  },
  {
   "cell_type": "code",
   "execution_count": null,
   "metadata": {
    "execution": {
     "iopub.execute_input": "2025-03-15T17:01:40.513786Z",
     "iopub.status.busy": "2025-03-15T17:01:40.513438Z",
     "iopub.status.idle": "2025-03-15T17:01:40.534531Z",
     "shell.execute_reply": "2025-03-15T17:01:40.533637Z",
     "shell.execute_reply.started": "2025-03-15T17:01:40.513761Z"
    },
    "trusted": true
   },
   "outputs": [],
   "source": [
    "# Model summary\n",
    "model.summary()"
   ]
  },
  {
   "cell_type": "code",
   "execution_count": null,
   "metadata": {
    "execution": {
     "iopub.execute_input": "2025-03-15T17:01:43.254812Z",
     "iopub.status.busy": "2025-03-15T17:01:43.254458Z",
     "iopub.status.idle": "2025-03-15T17:22:05.489179Z",
     "shell.execute_reply": "2025-03-15T17:22:05.488494Z",
     "shell.execute_reply.started": "2025-03-15T17:01:43.254765Z"
    },
    "trusted": true
   },
   "outputs": [],
   "source": [
    "# Training the model\n",
    "training_history = model.fit(\n",
    "    x=training_set,\n",
    "    validation_data=validation_set,\n",
    "    epochs=10\n",
    ")\n"
   ]
  },
  {
   "cell_type": "code",
   "execution_count": null,
   "metadata": {
    "execution": {
     "iopub.execute_input": "2025-03-15T17:26:06.063875Z",
     "iopub.status.busy": "2025-03-15T17:26:06.063553Z",
     "iopub.status.idle": "2025-03-15T17:27:39.497655Z",
     "shell.execute_reply": "2025-03-15T17:27:39.49694Z",
     "shell.execute_reply.started": "2025-03-15T17:26:06.063852Z"
    },
    "trusted": true
   },
   "outputs": [],
   "source": [
    "# Evaluate the model on the training set\n",
    "\n",
    "results = model.evaluate(training_set)\n",
    "\n",
    "# Extracting loss and accuracy along with additional metrics\n",
    "train_loss = results[0]\n",
    "train_acc = results[1]\n",
    "precision = results[2]\n",
    "recall = results[3]\n",
    "auc = results[4]\n",
    "true_positives = results[5]\n",
    "true_negatives = results[6]\n",
    "false_positives = results[7]\n",
    "false_negatives = results[8]\n",
    "\n",
    "# Printing the results\n",
    "print(f'Train Loss: {train_loss}, Train Accuracy: {train_acc}')\n",
    "print(f'Precision: {precision}, Recall: {recall}, AUC: {auc}')\n",
    "print(f'True Positives: {true_positives}, True Negatives: {true_negatives}')\n",
    "print(f'False Positives: {false_positives}, False Negatives: {false_negatives}')"
   ]
  },
  {
   "cell_type": "code",
   "execution_count": null,
   "metadata": {
    "execution": {
     "iopub.execute_input": "2025-03-15T17:28:32.107681Z",
     "iopub.status.busy": "2025-03-15T17:28:32.10733Z",
     "iopub.status.idle": "2025-03-15T17:28:55.750476Z",
     "shell.execute_reply": "2025-03-15T17:28:55.749422Z",
     "shell.execute_reply.started": "2025-03-15T17:28:32.107654Z"
    },
    "trusted": true
   },
   "outputs": [],
   "source": [
    "# Evaluate the model on the validation set\n",
    "\n",
    "\n",
    "results = model.evaluate(validation_set)\n",
    "\n",
    "# Extracting loss and accuracy along with additional metrics\n",
    "train_loss = results[0]\n",
    "train_acc = results[1]\n",
    "precision = results[2]\n",
    "recall = results[3]\n",
    "auc = results[4]\n",
    "true_positives = results[5]\n",
    "true_negatives = results[6]\n",
    "false_positives = results[7]\n",
    "false_negatives = results[8]\n",
    "\n",
    "# Printing the results\n",
    "print(f'Train Loss: {train_loss}, Train Accuracy: {train_acc}')\n",
    "print(f'Precision: {precision}, Recall: {recall}, AUC: {auc}')\n",
    "print(f'True Positives: {true_positives}, True Negatives: {true_negatives}')\n",
    "print(f'False Positives: {false_positives}, False Negatives: {false_negatives}')"
   ]
  },
  {
   "cell_type": "code",
   "execution_count": null,
   "metadata": {
    "execution": {
     "iopub.execute_input": "2025-03-15T17:29:14.636013Z",
     "iopub.status.busy": "2025-03-15T17:29:14.635694Z",
     "iopub.status.idle": "2025-03-15T17:31:05.401509Z",
     "shell.execute_reply": "2025-03-15T17:31:05.400658Z",
     "shell.execute_reply.started": "2025-03-15T17:29:14.635985Z"
    },
    "trusted": true
   },
   "outputs": [],
   "source": [
    "# Load the test dataset from the 'Test' subdirectories of the plant categories\n",
    "test_set = tf.keras.utils.image_dataset_from_directory(\n",
    "    '/kaggle/input/plant-village-dataset-updated',\n",
    "    labels=\"inferred\",\n",
    "    label_mode=\"categorical\",\n",
    "    color_mode=\"rgb\",\n",
    "    batch_size=32,\n",
    "    image_size=(224, 224),  # Adjusting the image size to match ResNet50 input\n",
    "    shuffle=False,  # Typically, you don't shuffle the test set\n",
    "    interpolation=\"bilinear\",\n",
    ")\n",
    "\n",
    "# Evaluate the model on the test set\n",
    "test_results = model.evaluate(test_set)\n",
    "\n",
    "# Extracting test metrics\n",
    "test_loss = test_results[0]\n",
    "test_acc = test_results[1]\n",
    "test_precision = test_results[2]\n",
    "test_recall = test_results[3]\n",
    "test_auc = test_results[4]\n",
    "test_true_positives = test_results[5]\n",
    "test_true_negatives = test_results[6]\n",
    "test_false_positives = test_results[7]\n",
    "test_false_negatives = test_results[8]\n",
    "\n",
    "# Printing the results for the test set\n",
    "print(f'Test Loss: {test_loss}, Test Accuracy: {test_acc}')\n",
    "print(f'Test Precision: {test_precision}, Test Recall: {test_recall}, Test AUC: {test_auc}')\n",
    "print(f'Test True Positives: {test_true_positives}, Test True Negatives: {test_true_negatives}')\n",
    "print(f'Test False Positives: {test_false_positives}, Test False Negatives: {test_false_negatives}')\n"
   ]
  },
  {
   "cell_type": "code",
   "execution_count": null,
   "metadata": {
    "execution": {
     "iopub.execute_input": "2025-03-15T17:31:45.055176Z",
     "iopub.status.busy": "2025-03-15T17:31:45.05485Z",
     "iopub.status.idle": "2025-03-15T17:31:45.819935Z",
     "shell.execute_reply": "2025-03-15T17:31:45.819202Z",
     "shell.execute_reply.started": "2025-03-15T17:31:45.05515Z"
    },
    "trusted": true
   },
   "outputs": [],
   "source": [
    "# Save the model\n",
    "model.save('plant-village_disease_model_resnet50.keras')"
   ]
  },
  {
   "cell_type": "code",
   "execution_count": null,
   "metadata": {
    "execution": {
     "iopub.execute_input": "2025-03-15T17:32:12.537721Z",
     "iopub.status.busy": "2025-03-15T17:32:12.53741Z",
     "iopub.status.idle": "2025-03-15T17:32:12.542207Z",
     "shell.execute_reply": "2025-03-15T17:32:12.541349Z",
     "shell.execute_reply.started": "2025-03-15T17:32:12.5377Z"
    },
    "trusted": true
   },
   "outputs": [],
   "source": [
    "# Save training history to JSON\n",
    "with open('plant-village_resnet50_hist_resnet50.json', 'w') as f:\n",
    "    json.dump(training_history.history, f)"
   ]
  }
 ],
 "metadata": {
  "kaggle": {
   "accelerator": "gpu",
   "dataSources": [
    {
     "datasetId": 3146821,
     "sourceId": 5441978,
     "sourceType": "datasetVersion"
    }
   ],
   "dockerImageVersionId": 30918,
   "isGpuEnabled": true,
   "isInternetEnabled": false,
   "language": "python",
   "sourceType": "notebook"
  },
  "kernelspec": {
   "display_name": "base",
   "language": "python",
   "name": "python3"
  },
  "language_info": {
   "codemirror_mode": {
    "name": "ipython",
    "version": 3
   },
   "file_extension": ".py",
   "mimetype": "text/x-python",
   "name": "python",
   "nbconvert_exporter": "python",
   "pygments_lexer": "ipython3",
   "version": "3.10.9"
  }
 },
 "nbformat": 4,
 "nbformat_minor": 4
}
