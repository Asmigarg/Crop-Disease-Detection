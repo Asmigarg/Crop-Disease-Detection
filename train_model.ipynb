{
 "cells": [
  {
   "cell_type": "code",
   "execution_count": null,
   "id": "493a77d3",
   "metadata": {},
   "outputs": [],
   "source": [
    "#configured by Akansh"
   ]
  },
  {
   "cell_type": "code",
   "execution_count": null,
   "id": "27ee1f27",
   "metadata": {},
   "outputs": [],
   "source": [
    "import tensorflow as tf\n",
    "import matplotlib.pyplot as plt\n",
    "import pandas as pd\n",
    "import seaborn as sns\n",
    "import json\n",
    "import cv2\n",
    "from tensorflow.keras.applications import ResNet50\n",
    "from tensorflow.keras.layers import Dense, GlobalAveragePooling2D, Dropout\n",
    "from tensorflow.keras.models import Model\n",
    "from tensorflow.keras.applications.resnet50 import preprocess_input\n",
    "from tensorflow.keras.metrics import Precision, Recall, AUC"
   ]
  },
  {
   "cell_type": "code",
   "execution_count": null,
   "id": "a36b71de",
   "metadata": {},
   "outputs": [],
   "source": [
    "# Helper to convert to HSV using OpenCV inside tf.data pipeline\n",
    "def convert_to_hsv(img, space='hsv'):\n",
    "    img = tf.cast(img, tf.uint8)\n",
    "    img = tf.numpy_function(lambda x: cv2.cvtColor(x, cv2.COLOR_RGB2HSV), [img], tf.uint8)\n",
    "    img.set_shape([224, 224, 3])\n",
    "    return tf.cast(img, tf.float32)"
   ]
  },
  {
   "cell_type": "code",
   "execution_count": null,
   "id": "376bd523",
   "metadata": {},
   "outputs": [],
   "source": [
    "def preprocess_rgb(image, label):\n",
    "    def process_single_image(img):\n",
    "        img = tf.image.random_brightness(img, max_delta=0.15)\n",
    "        img = tf.image.random_contrast(img, 0.8, 1.2)\n",
    "        img = tf.image.random_saturation(img, 0.8, 1.2)\n",
    "        img = tf.image.random_flip_left_right(img)\n",
    "        img = tf.image.resize_with_crop_or_pad(img, 230, 230)\n",
    "        img = tf.image.random_crop(img, size=[224, 224, 3])\n",
    "        return preprocess_input(img)\n",
    "    \n",
    "    image = tf.map_fn(process_single_image, image, dtype=tf.float32)\n",
    "    return image, label\n",
    "\n",
    "\n",
    "def preprocess_hsv(image, label):\n",
    "    def process_single_image(img):\n",
    "        img = convert_to_hsv(img, space='hsv')\n",
    "        img = tf.image.convert_image_dtype(img, dtype=tf.float32)\n",
    "        img = tf.image.random_brightness(img, max_delta=0.15)\n",
    "        img = tf.image.random_contrast(img, 0.8, 1.2)\n",
    "        img = tf.image.random_flip_left_right(img)\n",
    "        img = tf.image.resize_with_crop_or_pad(img, 230, 230)\n",
    "        img = tf.image.random_crop(img, size=[224, 224, 3]) \n",
    "\n",
    "        return preprocess_input(img)\n",
    "\n",
    "    image = tf.map_fn(process_single_image, image, fn_output_signature=tf.float32)\n",
    "    return image, label"
   ]
  },
  {
   "cell_type": "code",
   "execution_count": null,
   "id": "e42341aa",
   "metadata": {},
   "outputs": [],
   "source": [
    "# Load the validation dataset\n",
    "validation_set = tf.keras.utils.image_dataset_from_directory(\n",
    "    r'plant-dataset\\val_v1',\n",
    "    labels=\"inferred\",\n",
    "    label_mode=\"categorical\",\n",
    "    color_mode=\"rgb\",\n",
    "    batch_size=32,\n",
    "    image_size=(224, 224),\n",
    "    shuffle=True,\n",
    "    interpolation=\"bilinear\",\n",
    "    seed=42\n",
    ")"
   ]
  },
  {
   "cell_type": "code",
   "execution_count": null,
   "id": "110205bf",
   "metadata": {},
   "outputs": [],
   "source": [
    "# Load the training dataset\n",
    "training_set = tf.keras.utils.image_dataset_from_directory(\n",
    "    r'plant-dataset\\train_v1',\n",
    "    labels=\"inferred\",\n",
    "    label_mode=\"categorical\",\n",
    "    color_mode=\"rgb\",\n",
    "    batch_size=32,\n",
    "    image_size=(224, 224),\n",
    "    shuffle=True,\n",
    "    interpolation=\"bilinear\",\n",
    "    seed=42\n",
    ")\n",
    "\n",
    "print(training_set.class_names)"
   ]
  },
  {
   "cell_type": "code",
   "execution_count": null,
   "id": "c0f0befb",
   "metadata": {},
   "outputs": [],
   "source": [
    "# Load the test dataset\n",
    "test_set = tf.keras.utils.image_dataset_from_directory(\n",
    "    r'plant-dataset\\test_v1',\n",
    "    labels=\"inferred\",\n",
    "    label_mode=\"categorical\",\n",
    "    color_mode=\"rgb\",\n",
    "    batch_size=32,\n",
    "    image_size=(224, 224),\n",
    "    shuffle=False,\n",
    "    interpolation=\"bilinear\",\n",
    ")"
   ]
  },
  {
   "cell_type": "code",
   "execution_count": null,
   "id": "69028102",
   "metadata": {},
   "outputs": [],
   "source": [
    "training_set_rgb=training_set.map(preprocess_rgb)\n",
    "training_set_hsv=training_set.map(preprocess_hsv)"
   ]
  },
  {
   "cell_type": "code",
   "execution_count": null,
   "id": "d8dcda8a",
   "metadata": {},
   "outputs": [],
   "source": [
    "num_classes = 29 \n",
    "\n",
    "def build_model(train_base=False):\n",
    "    # Load ResNet50 model without the top classification layer, using imagenet weights\n",
    "    base_model = ResNet50(weights='imagenet', include_top=False, input_shape=(224, 224, 3))\n",
    "    # Freeze the base model layers to prevent them from being trained\n",
    "    if not train_base:\n",
    "        base_model.trainable = False\n",
    "    else:\n",
    "        for layer in base_model.layers[:-20]:\n",
    "            layer.trainable = False\n",
    "        for layer in base_model.layers[-20:]:\n",
    "            layer.trainable = True\n",
    "    # Build the new model on top of the ResNet50 base\n",
    "    model = tf.keras.Sequential([\n",
    "        base_model,\n",
    "        GlobalAveragePooling2D(),\n",
    "        Dense(1024, activation='relu'),\n",
    "        Dropout(0.5),\n",
    "        Dense(num_classes, activation='softmax')\n",
    "    ])\n",
    "    model.compile(\n",
    "        optimizer=tf.keras.optimizers.Adam(learning_rate=0.0001),\n",
    "        loss='categorical_crossentropy',\n",
    "        metrics=[\n",
    "            'accuracy',           # Standard accuracy\n",
    "            Precision(),          # Precision metric\n",
    "            Recall(),             # Recall metric\n",
    "            AUC(),                # AUC (Area Under Curve)\n",
    "            'TruePositives',      # True positive count\n",
    "            'TrueNegatives',      # True negative count\n",
    "            'FalsePositives',     # False positive count\n",
    "            'FalseNegatives'      # False negative count\n",
    "        ]\n",
    "    )\n",
    "    model.summary()\n",
    "    return model"
   ]
  },
  {
   "cell_type": "code",
   "execution_count": null,
   "id": "12e933c5",
   "metadata": {},
   "outputs": [],
   "source": [
    "# Training the RGB model\n",
    "model_RGB = build_model()\n",
    "m_rgb = model_RGB.fit(\n",
    "    training_set_rgb,\n",
    "    validation_data=validation_set.map(preprocess_rgb),\n",
    "    epochs=10\n",
    ")\n",
    "model_RGB.save('plant_model_rgb.keras')\n",
    "\n",
    "# Save training histories to JSON\n",
    "with open('plant_model_rgb.json', 'w') as f:\n",
    "    json.dump(m_rgb.history, f)"
   ]
  },
  {
   "cell_type": "code",
   "execution_count": null,
   "id": "18d2575d",
   "metadata": {},
   "outputs": [],
   "source": [
    "# Training the HSV model\n",
    "model_HSV = build_model(train_base=True)\n",
    "m_hsv = model_HSV.fit(\n",
    "    training_set_hsv,\n",
    "    validation_data=validation_set.map(preprocess_hsv),\n",
    "    epochs=10\n",
    ")\n",
    "model_HSV.save('plant_model_hsv.keras')\n",
    "\n",
    "# Save training histories to JSON\n",
    "with open('plant_model_hsv.json', 'w') as f:\n",
    "    json.dump(m_hsv.history, f)"
   ]
  },
  {
   "cell_type": "code",
   "execution_count": null,
   "id": "d85fa36d",
   "metadata": {},
   "outputs": [],
   "source": [
    "# Evaluate models on validation data\n",
    "results_rgb = model_RGB.evaluate(validation_set.map(preprocess_rgb))\n",
    "results_hsv = model_HSV.evaluate(validation_set.map(preprocess_hsv))\n",
    "\n",
    "print(f\"RGB Model Evaluation Results: {results_rgb}\")\n",
    "print(f\"HSV Model Evaluation Results: {results_hsv}\")\n",
    "\n",
    "# Save evaluation results\n",
    "with open('plant_model_rgb_evaluation.json', 'w') as f:\n",
    "    json.dump(results_rgb, f)\n",
    "\n",
    "with open('plant_model_hsv_evaluation.json', 'w') as f:\n",
    "    json.dump(results_hsv, f)"
   ]
  },
  {
   "cell_type": "code",
   "execution_count": null,
   "id": "d32d7ac2",
   "metadata": {},
   "outputs": [],
   "source": [
    "# # Evaluate the model on the training set\n",
    "# results = model.evaluate(training_set)\n",
    "\n",
    "# # Extracting loss and accuracy along with additional metrics\n",
    "# train_loss = results[0]\n",
    "# train_acc = results[1]\n",
    "# precision = results[2]\n",
    "# recall = results[3]\n",
    "# auc = results[4]\n",
    "# true_positives = results[5]\n",
    "# true_negatives = results[6]\n",
    "# false_positives = results[7]\n",
    "# false_negatives = results[8]\n",
    "\n",
    "# # Printing the results\n",
    "# print(f'Train Loss: {train_loss}, Train Accuracy: {train_acc}')\n",
    "# print(f'Precision: {precision}, Recall: {recall}, AUC: {auc}')\n",
    "# print(f'True Positives: {true_positives}, True Negatives: {true_negatives}')\n",
    "# print(f'False Positives: {false_positives}, False Negatives: {false_negatives}')"
   ]
  },
  {
   "cell_type": "code",
   "execution_count": null,
   "id": "f23299c9",
   "metadata": {},
   "outputs": [],
   "source": [
    "# # Evaluate the model on the validation set\n",
    "# results = model.evaluate(validation_set)\n",
    "\n",
    "# # Extracting loss and accuracy along with additional metrics\n",
    "# val_loss = results[0]\n",
    "# val_acc = results[1]\n",
    "# precision = results[2]\n",
    "# recall = results[3]\n",
    "# auc = results[4]\n",
    "# true_positives = results[5]\n",
    "# true_negatives = results[6]\n",
    "# false_positives = results[7]\n",
    "# false_negatives = results[8]\n",
    "\n",
    "# # Printing the results\n",
    "# print(f'Validation Loss: {val_loss}, Validation Accuracy: {val_acc}')\n",
    "# print(f'Precision: {precision}, Recall: {recall}, AUC: {auc}')\n",
    "# print(f'True Positives: {true_positives}, True Negatives: {true_negatives}')\n",
    "# print(f'False Positives: {false_positives}, False Negatives: {false_negatives}')"
   ]
  }
 ],
 "metadata": {
  "kernelspec": {
   "display_name": "Python 3",
   "language": "python",
   "name": "python3"
  },
  "language_info": {
   "codemirror_mode": {
    "name": "ipython",
    "version": 3
   },
   "file_extension": ".py",
   "mimetype": "text/x-python",
   "name": "python",
   "nbconvert_exporter": "python",
   "pygments_lexer": "ipython3",
   "version": "3.12.1"
  }
 },
 "nbformat": 4,
 "nbformat_minor": 5
}
